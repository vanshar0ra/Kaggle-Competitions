{
 "cells": [
  {
   "cell_type": "code",
   "execution_count": 1,
   "id": "fa9eae6a",
   "metadata": {
    "_cell_guid": "b1076dfc-b9ad-4769-8c92-a6c4dae69d19",
    "_uuid": "8f2839f25d086af736a60e9eeb907d3b93b6e0e5",
    "execution": {
     "iopub.execute_input": "2023-05-19T14:25:57.305648Z",
     "iopub.status.busy": "2023-05-19T14:25:57.305156Z",
     "iopub.status.idle": "2023-05-19T14:25:57.337105Z",
     "shell.execute_reply": "2023-05-19T14:25:57.335531Z"
    },
    "papermill": {
     "duration": 0.054,
     "end_time": "2023-05-19T14:25:57.340440",
     "exception": false,
     "start_time": "2023-05-19T14:25:57.286440",
     "status": "completed"
    },
    "tags": []
   },
   "outputs": [
    {
     "name": "stdout",
     "output_type": "stream",
     "text": [
      "/kaggle/input/kidney-stone-prediction-based-on-urine-analysis/kindey stone urine analysis.csv\n",
      "/kaggle/input/playground-series-s3e12/sample_submission.csv\n",
      "/kaggle/input/playground-series-s3e12/train.csv\n",
      "/kaggle/input/playground-series-s3e12/test.csv\n"
     ]
    }
   ],
   "source": [
    "# This Python 3 environment comes with many helpful analytics libraries installed\n",
    "# It is defined by the kaggle/python Docker image: https://github.com/kaggle/docker-python\n",
    "# For example, here's several helpful packages to load\n",
    "\n",
    "import numpy as np # linear algebra\n",
    "\n",
    "import pandas as pd # data processing, CSV file I/O (e.g. pd.read_csv)\n",
    "\n",
    "# Input data files are available in the read-only \"../input/\" directory\n",
    "# For example, running this (by clicking run or pressing Shift+Enter) will list all files under the input directory\n",
    "\n",
    "import os\n",
    "for dirname, _, filenames in os.walk('/kaggle/input'):\n",
    "    for filename in filenames:\n",
    "        print(os.path.join(dirname, filename))\n",
    "\n",
    "# You can write up to 20GB to the current directory (/kaggle/working/) that gets preserved as output when you create a version using \"Save & Run All\" \n",
    "# You can also write temporary files to /kaggle/temp/, but they won't be saved outside of the current session"
   ]
  },
  {
   "cell_type": "code",
   "execution_count": 2,
   "id": "91516882",
   "metadata": {
    "execution": {
     "iopub.execute_input": "2023-05-19T14:25:57.373889Z",
     "iopub.status.busy": "2023-05-19T14:25:57.373475Z",
     "iopub.status.idle": "2023-05-19T14:25:58.440917Z",
     "shell.execute_reply": "2023-05-19T14:25:58.439651Z"
    },
    "papermill": {
     "duration": 1.088063,
     "end_time": "2023-05-19T14:25:58.444542",
     "exception": false,
     "start_time": "2023-05-19T14:25:57.356479",
     "status": "completed"
    },
    "tags": []
   },
   "outputs": [],
   "source": [
    "import sklearn\n",
    "import matplotlib.pyplot as plt"
   ]
  },
  {
   "cell_type": "code",
   "execution_count": 3,
   "id": "87e328a2",
   "metadata": {
    "execution": {
     "iopub.execute_input": "2023-05-19T14:25:58.479890Z",
     "iopub.status.busy": "2023-05-19T14:25:58.479120Z",
     "iopub.status.idle": "2023-05-19T14:25:58.509973Z",
     "shell.execute_reply": "2023-05-19T14:25:58.508596Z"
    },
    "papermill": {
     "duration": 0.052322,
     "end_time": "2023-05-19T14:25:58.513400",
     "exception": false,
     "start_time": "2023-05-19T14:25:58.461078",
     "status": "completed"
    },
    "tags": []
   },
   "outputs": [],
   "source": [
    "train_full = pd.read_csv(\"/kaggle/input/playground-series-s3e12/train.csv\")\n",
    "test_full = pd.read_csv(\"/kaggle/input/playground-series-s3e12/test.csv\")"
   ]
  },
  {
   "cell_type": "code",
   "execution_count": 4,
   "id": "e326ddb6",
   "metadata": {
    "execution": {
     "iopub.execute_input": "2023-05-19T14:25:58.548562Z",
     "iopub.status.busy": "2023-05-19T14:25:58.547677Z",
     "iopub.status.idle": "2023-05-19T14:25:58.579766Z",
     "shell.execute_reply": "2023-05-19T14:25:58.578175Z"
    },
    "papermill": {
     "duration": 0.053505,
     "end_time": "2023-05-19T14:25:58.582703",
     "exception": false,
     "start_time": "2023-05-19T14:25:58.529198",
     "status": "completed"
    },
    "tags": []
   },
   "outputs": [
    {
     "data": {
      "text/html": [
       "<div>\n",
       "<style scoped>\n",
       "    .dataframe tbody tr th:only-of-type {\n",
       "        vertical-align: middle;\n",
       "    }\n",
       "\n",
       "    .dataframe tbody tr th {\n",
       "        vertical-align: top;\n",
       "    }\n",
       "\n",
       "    .dataframe thead th {\n",
       "        text-align: right;\n",
       "    }\n",
       "</style>\n",
       "<table border=\"1\" class=\"dataframe\">\n",
       "  <thead>\n",
       "    <tr style=\"text-align: right;\">\n",
       "      <th></th>\n",
       "      <th>id</th>\n",
       "      <th>gravity</th>\n",
       "      <th>ph</th>\n",
       "      <th>osmo</th>\n",
       "      <th>cond</th>\n",
       "      <th>urea</th>\n",
       "      <th>calc</th>\n",
       "      <th>target</th>\n",
       "    </tr>\n",
       "  </thead>\n",
       "  <tbody>\n",
       "    <tr>\n",
       "      <th>0</th>\n",
       "      <td>0</td>\n",
       "      <td>1.013</td>\n",
       "      <td>6.19</td>\n",
       "      <td>443</td>\n",
       "      <td>14.8</td>\n",
       "      <td>124</td>\n",
       "      <td>1.45</td>\n",
       "      <td>0</td>\n",
       "    </tr>\n",
       "    <tr>\n",
       "      <th>1</th>\n",
       "      <td>1</td>\n",
       "      <td>1.025</td>\n",
       "      <td>5.40</td>\n",
       "      <td>703</td>\n",
       "      <td>23.6</td>\n",
       "      <td>394</td>\n",
       "      <td>4.18</td>\n",
       "      <td>0</td>\n",
       "    </tr>\n",
       "    <tr>\n",
       "      <th>2</th>\n",
       "      <td>2</td>\n",
       "      <td>1.009</td>\n",
       "      <td>6.13</td>\n",
       "      <td>371</td>\n",
       "      <td>24.5</td>\n",
       "      <td>159</td>\n",
       "      <td>9.04</td>\n",
       "      <td>0</td>\n",
       "    </tr>\n",
       "    <tr>\n",
       "      <th>3</th>\n",
       "      <td>3</td>\n",
       "      <td>1.021</td>\n",
       "      <td>4.91</td>\n",
       "      <td>442</td>\n",
       "      <td>20.8</td>\n",
       "      <td>398</td>\n",
       "      <td>6.63</td>\n",
       "      <td>1</td>\n",
       "    </tr>\n",
       "    <tr>\n",
       "      <th>4</th>\n",
       "      <td>4</td>\n",
       "      <td>1.021</td>\n",
       "      <td>5.53</td>\n",
       "      <td>874</td>\n",
       "      <td>17.8</td>\n",
       "      <td>385</td>\n",
       "      <td>2.21</td>\n",
       "      <td>1</td>\n",
       "    </tr>\n",
       "  </tbody>\n",
       "</table>\n",
       "</div>"
      ],
      "text/plain": [
       "   id  gravity    ph  osmo  cond  urea  calc  target\n",
       "0   0    1.013  6.19   443  14.8   124  1.45       0\n",
       "1   1    1.025  5.40   703  23.6   394  4.18       0\n",
       "2   2    1.009  6.13   371  24.5   159  9.04       0\n",
       "3   3    1.021  4.91   442  20.8   398  6.63       1\n",
       "4   4    1.021  5.53   874  17.8   385  2.21       1"
      ]
     },
     "execution_count": 4,
     "metadata": {},
     "output_type": "execute_result"
    }
   ],
   "source": [
    "train_full.head()"
   ]
  },
  {
   "cell_type": "code",
   "execution_count": 5,
   "id": "66bc6e13",
   "metadata": {
    "execution": {
     "iopub.execute_input": "2023-05-19T14:25:58.616307Z",
     "iopub.status.busy": "2023-05-19T14:25:58.615860Z",
     "iopub.status.idle": "2023-05-19T14:25:58.664980Z",
     "shell.execute_reply": "2023-05-19T14:25:58.663956Z"
    },
    "papermill": {
     "duration": 0.068834,
     "end_time": "2023-05-19T14:25:58.667485",
     "exception": false,
     "start_time": "2023-05-19T14:25:58.598651",
     "status": "completed"
    },
    "tags": []
   },
   "outputs": [
    {
     "data": {
      "text/html": [
       "<div>\n",
       "<style scoped>\n",
       "    .dataframe tbody tr th:only-of-type {\n",
       "        vertical-align: middle;\n",
       "    }\n",
       "\n",
       "    .dataframe tbody tr th {\n",
       "        vertical-align: top;\n",
       "    }\n",
       "\n",
       "    .dataframe thead th {\n",
       "        text-align: right;\n",
       "    }\n",
       "</style>\n",
       "<table border=\"1\" class=\"dataframe\">\n",
       "  <thead>\n",
       "    <tr style=\"text-align: right;\">\n",
       "      <th></th>\n",
       "      <th>id</th>\n",
       "      <th>gravity</th>\n",
       "      <th>ph</th>\n",
       "      <th>osmo</th>\n",
       "      <th>cond</th>\n",
       "      <th>urea</th>\n",
       "      <th>calc</th>\n",
       "      <th>target</th>\n",
       "    </tr>\n",
       "  </thead>\n",
       "  <tbody>\n",
       "    <tr>\n",
       "      <th>count</th>\n",
       "      <td>414.000000</td>\n",
       "      <td>414.000000</td>\n",
       "      <td>414.000000</td>\n",
       "      <td>414.000000</td>\n",
       "      <td>414.000000</td>\n",
       "      <td>414.000000</td>\n",
       "      <td>414.000000</td>\n",
       "      <td>414.000000</td>\n",
       "    </tr>\n",
       "    <tr>\n",
       "      <th>mean</th>\n",
       "      <td>206.500000</td>\n",
       "      <td>1.017894</td>\n",
       "      <td>5.955459</td>\n",
       "      <td>651.545894</td>\n",
       "      <td>21.437923</td>\n",
       "      <td>278.657005</td>\n",
       "      <td>4.114638</td>\n",
       "      <td>0.444444</td>\n",
       "    </tr>\n",
       "    <tr>\n",
       "      <th>std</th>\n",
       "      <td>119.655756</td>\n",
       "      <td>0.006675</td>\n",
       "      <td>0.642260</td>\n",
       "      <td>234.676567</td>\n",
       "      <td>7.514750</td>\n",
       "      <td>136.442249</td>\n",
       "      <td>3.217641</td>\n",
       "      <td>0.497505</td>\n",
       "    </tr>\n",
       "    <tr>\n",
       "      <th>min</th>\n",
       "      <td>0.000000</td>\n",
       "      <td>1.005000</td>\n",
       "      <td>4.760000</td>\n",
       "      <td>187.000000</td>\n",
       "      <td>5.100000</td>\n",
       "      <td>10.000000</td>\n",
       "      <td>0.170000</td>\n",
       "      <td>0.000000</td>\n",
       "    </tr>\n",
       "    <tr>\n",
       "      <th>25%</th>\n",
       "      <td>103.250000</td>\n",
       "      <td>1.012000</td>\n",
       "      <td>5.530000</td>\n",
       "      <td>455.250000</td>\n",
       "      <td>15.500000</td>\n",
       "      <td>170.000000</td>\n",
       "      <td>1.450000</td>\n",
       "      <td>0.000000</td>\n",
       "    </tr>\n",
       "    <tr>\n",
       "      <th>50%</th>\n",
       "      <td>206.500000</td>\n",
       "      <td>1.018000</td>\n",
       "      <td>5.740000</td>\n",
       "      <td>679.500000</td>\n",
       "      <td>22.200000</td>\n",
       "      <td>277.000000</td>\n",
       "      <td>3.130000</td>\n",
       "      <td>0.000000</td>\n",
       "    </tr>\n",
       "    <tr>\n",
       "      <th>75%</th>\n",
       "      <td>309.750000</td>\n",
       "      <td>1.022000</td>\n",
       "      <td>6.280000</td>\n",
       "      <td>840.000000</td>\n",
       "      <td>27.600000</td>\n",
       "      <td>385.000000</td>\n",
       "      <td>6.630000</td>\n",
       "      <td>1.000000</td>\n",
       "    </tr>\n",
       "    <tr>\n",
       "      <th>max</th>\n",
       "      <td>413.000000</td>\n",
       "      <td>1.040000</td>\n",
       "      <td>7.940000</td>\n",
       "      <td>1236.000000</td>\n",
       "      <td>38.000000</td>\n",
       "      <td>620.000000</td>\n",
       "      <td>14.340000</td>\n",
       "      <td>1.000000</td>\n",
       "    </tr>\n",
       "  </tbody>\n",
       "</table>\n",
       "</div>"
      ],
      "text/plain": [
       "               id     gravity          ph         osmo        cond  \\\n",
       "count  414.000000  414.000000  414.000000   414.000000  414.000000   \n",
       "mean   206.500000    1.017894    5.955459   651.545894   21.437923   \n",
       "std    119.655756    0.006675    0.642260   234.676567    7.514750   \n",
       "min      0.000000    1.005000    4.760000   187.000000    5.100000   \n",
       "25%    103.250000    1.012000    5.530000   455.250000   15.500000   \n",
       "50%    206.500000    1.018000    5.740000   679.500000   22.200000   \n",
       "75%    309.750000    1.022000    6.280000   840.000000   27.600000   \n",
       "max    413.000000    1.040000    7.940000  1236.000000   38.000000   \n",
       "\n",
       "             urea        calc      target  \n",
       "count  414.000000  414.000000  414.000000  \n",
       "mean   278.657005    4.114638    0.444444  \n",
       "std    136.442249    3.217641    0.497505  \n",
       "min     10.000000    0.170000    0.000000  \n",
       "25%    170.000000    1.450000    0.000000  \n",
       "50%    277.000000    3.130000    0.000000  \n",
       "75%    385.000000    6.630000    1.000000  \n",
       "max    620.000000   14.340000    1.000000  "
      ]
     },
     "execution_count": 5,
     "metadata": {},
     "output_type": "execute_result"
    }
   ],
   "source": [
    "train_full.describe()"
   ]
  },
  {
   "cell_type": "code",
   "execution_count": 6,
   "id": "aba6acf9",
   "metadata": {
    "execution": {
     "iopub.execute_input": "2023-05-19T14:25:58.702319Z",
     "iopub.status.busy": "2023-05-19T14:25:58.701475Z",
     "iopub.status.idle": "2023-05-19T14:25:58.711031Z",
     "shell.execute_reply": "2023-05-19T14:25:58.709619Z"
    },
    "papermill": {
     "duration": 0.030199,
     "end_time": "2023-05-19T14:25:58.713636",
     "exception": false,
     "start_time": "2023-05-19T14:25:58.683437",
     "status": "completed"
    },
    "tags": []
   },
   "outputs": [],
   "source": [
    "y_train = train_full.target\n",
    "train_full.index = train_full[\"id\"]\n",
    "train_full.drop([\"id\",\"target\"],axis =1, inplace = True)\n",
    "\n",
    "test_full.index = test_full[\"id\"]\n",
    "test_X = test_full.drop([\"id\"],axis = 1)"
   ]
  },
  {
   "cell_type": "code",
   "execution_count": 7,
   "id": "1a1194a0",
   "metadata": {
    "execution": {
     "iopub.execute_input": "2023-05-19T14:25:58.748818Z",
     "iopub.status.busy": "2023-05-19T14:25:58.748275Z",
     "iopub.status.idle": "2023-05-19T14:25:58.862639Z",
     "shell.execute_reply": "2023-05-19T14:25:58.860783Z"
    },
    "papermill": {
     "duration": 0.137205,
     "end_time": "2023-05-19T14:25:58.866873",
     "exception": false,
     "start_time": "2023-05-19T14:25:58.729668",
     "status": "completed"
    },
    "tags": []
   },
   "outputs": [],
   "source": [
    "from sklearn.model_selection import train_test_split\n",
    "\n",
    "train_X, val_X, train_y, val_y = train_test_split(train_full, y_train)"
   ]
  },
  {
   "cell_type": "code",
   "execution_count": 8,
   "id": "456072cf",
   "metadata": {
    "execution": {
     "iopub.execute_input": "2023-05-19T14:25:58.902711Z",
     "iopub.status.busy": "2023-05-19T14:25:58.901773Z",
     "iopub.status.idle": "2023-05-19T14:25:59.172962Z",
     "shell.execute_reply": "2023-05-19T14:25:59.171991Z"
    },
    "papermill": {
     "duration": 0.292631,
     "end_time": "2023-05-19T14:25:59.176025",
     "exception": false,
     "start_time": "2023-05-19T14:25:58.883394",
     "status": "completed"
    },
    "tags": []
   },
   "outputs": [
    {
     "name": "stdout",
     "output_type": "stream",
     "text": [
      "0.7018128005919348\n"
     ]
    }
   ],
   "source": [
    "from sklearn.tree import DecisionTreeClassifier\n",
    "from sklearn.metrics import roc_curve, roc_auc_score\n",
    "\n",
    "my_model_1 = DecisionTreeClassifier(max_depth = 5,random_state=42)\n",
    "my_model_1.fit(train_X,train_y)\n",
    "val_probs_1 = my_model_1.predict_proba(val_X)\n",
    "val_probs_1 = val_probs_1[:,1]\n",
    "val_preds_1 = my_model_1.predict(val_X)\n",
    "\n",
    "auc_score_1 = roc_auc_score(val_y, val_probs_1)\n",
    "print(auc_score_1)"
   ]
  },
  {
   "cell_type": "code",
   "execution_count": 9,
   "id": "09cc27af",
   "metadata": {
    "execution": {
     "iopub.execute_input": "2023-05-19T14:25:59.212108Z",
     "iopub.status.busy": "2023-05-19T14:25:59.211270Z",
     "iopub.status.idle": "2023-05-19T14:25:59.619328Z",
     "shell.execute_reply": "2023-05-19T14:25:59.617936Z"
    },
    "papermill": {
     "duration": 0.429818,
     "end_time": "2023-05-19T14:25:59.622537",
     "exception": false,
     "start_time": "2023-05-19T14:25:59.192719",
     "status": "completed"
    },
    "tags": []
   },
   "outputs": [
    {
     "name": "stdout",
     "output_type": "stream",
     "text": [
      "0.7917129115797262\n"
     ]
    }
   ],
   "source": [
    "from sklearn.ensemble import RandomForestClassifier\n",
    "\n",
    "my_model_2 = RandomForestClassifier(random_state=42)\n",
    "my_model_2.fit(train_X, train_y)\n",
    "val_probs_2 = my_model_2.predict_proba(val_X)\n",
    "val_probs_2 = val_probs_2[:,1]\n",
    "val_preds_2 = my_model_2.predict(val_X)\n",
    "\n",
    "auc_score_2 = roc_auc_score(val_y, val_probs_2)\n",
    "print(auc_score_2)"
   ]
  },
  {
   "cell_type": "code",
   "execution_count": 10,
   "id": "77c10f5b",
   "metadata": {
    "execution": {
     "iopub.execute_input": "2023-05-19T14:25:59.658326Z",
     "iopub.status.busy": "2023-05-19T14:25:59.657851Z",
     "iopub.status.idle": "2023-05-19T14:25:59.947734Z",
     "shell.execute_reply": "2023-05-19T14:25:59.946341Z"
    },
    "papermill": {
     "duration": 0.311465,
     "end_time": "2023-05-19T14:25:59.950945",
     "exception": false,
     "start_time": "2023-05-19T14:25:59.639480",
     "status": "completed"
    },
    "tags": []
   },
   "outputs": [
    {
     "name": "stdout",
     "output_type": "stream",
     "text": [
      "0.7635960044395117\n"
     ]
    },
    {
     "name": "stderr",
     "output_type": "stream",
     "text": [
      "/opt/conda/lib/python3.7/site-packages/xgboost/sklearn.py:797: UserWarning: `early_stopping_rounds` in `fit` method is deprecated for better compatibility with scikit-learn, use `early_stopping_rounds` in constructor or`set_params` instead.\n",
      "  UserWarning,\n"
     ]
    }
   ],
   "source": [
    "from xgboost import XGBClassifier\n",
    "\n",
    "my_model_3 = XGBClassifier(n_estimators = 500, learning_rate = 0.05,random_state=42)\n",
    "my_model_3.fit(train_X, train_y, early_stopping_rounds=5, eval_set=[(val_X, val_y)],verbose=False)\n",
    "val_probs_3 = my_model_3.predict_proba(val_X)\n",
    "val_probs_3 = val_probs_3[:,1]\n",
    "val_preds_3 = my_model_3.predict(val_X)\n",
    "\n",
    "auc_score_3 = roc_auc_score(val_y, val_probs_3)\n",
    "print(auc_score_3)"
   ]
  },
  {
   "cell_type": "markdown",
   "id": "51a08e8d",
   "metadata": {
    "papermill": {
     "duration": 0.016476,
     "end_time": "2023-05-19T14:25:59.985262",
     "exception": false,
     "start_time": "2023-05-19T14:25:59.968786",
     "status": "completed"
    },
    "tags": []
   },
   "source": [
    "## Adding new training data to improve the performance of the models"
   ]
  },
  {
   "cell_type": "code",
   "execution_count": 11,
   "id": "cd9d9689",
   "metadata": {
    "execution": {
     "iopub.execute_input": "2023-05-19T14:26:00.023139Z",
     "iopub.status.busy": "2023-05-19T14:26:00.022599Z",
     "iopub.status.idle": "2023-05-19T14:26:00.038535Z",
     "shell.execute_reply": "2023-05-19T14:26:00.037175Z"
    },
    "papermill": {
     "duration": 0.039165,
     "end_time": "2023-05-19T14:26:00.041838",
     "exception": false,
     "start_time": "2023-05-19T14:26:00.002673",
     "status": "completed"
    },
    "tags": []
   },
   "outputs": [],
   "source": [
    "add_data = pd.read_csv(\"/kaggle/input/kidney-stone-prediction-based-on-urine-analysis/kindey stone urine analysis.csv\")"
   ]
  },
  {
   "cell_type": "code",
   "execution_count": 12,
   "id": "295e8d0d",
   "metadata": {
    "execution": {
     "iopub.execute_input": "2023-05-19T14:26:00.078975Z",
     "iopub.status.busy": "2023-05-19T14:26:00.077724Z",
     "iopub.status.idle": "2023-05-19T14:26:00.095786Z",
     "shell.execute_reply": "2023-05-19T14:26:00.094087Z"
    },
    "papermill": {
     "duration": 0.039705,
     "end_time": "2023-05-19T14:26:00.098767",
     "exception": false,
     "start_time": "2023-05-19T14:26:00.059062",
     "status": "completed"
    },
    "tags": []
   },
   "outputs": [
    {
     "data": {
      "text/html": [
       "<div>\n",
       "<style scoped>\n",
       "    .dataframe tbody tr th:only-of-type {\n",
       "        vertical-align: middle;\n",
       "    }\n",
       "\n",
       "    .dataframe tbody tr th {\n",
       "        vertical-align: top;\n",
       "    }\n",
       "\n",
       "    .dataframe thead th {\n",
       "        text-align: right;\n",
       "    }\n",
       "</style>\n",
       "<table border=\"1\" class=\"dataframe\">\n",
       "  <thead>\n",
       "    <tr style=\"text-align: right;\">\n",
       "      <th></th>\n",
       "      <th>gravity</th>\n",
       "      <th>ph</th>\n",
       "      <th>osmo</th>\n",
       "      <th>cond</th>\n",
       "      <th>urea</th>\n",
       "      <th>calc</th>\n",
       "      <th>target</th>\n",
       "    </tr>\n",
       "  </thead>\n",
       "  <tbody>\n",
       "    <tr>\n",
       "      <th>0</th>\n",
       "      <td>1.021</td>\n",
       "      <td>4.91</td>\n",
       "      <td>725</td>\n",
       "      <td>14.0</td>\n",
       "      <td>443</td>\n",
       "      <td>2.45</td>\n",
       "      <td>0</td>\n",
       "    </tr>\n",
       "    <tr>\n",
       "      <th>1</th>\n",
       "      <td>1.017</td>\n",
       "      <td>5.74</td>\n",
       "      <td>577</td>\n",
       "      <td>20.0</td>\n",
       "      <td>296</td>\n",
       "      <td>4.49</td>\n",
       "      <td>0</td>\n",
       "    </tr>\n",
       "    <tr>\n",
       "      <th>2</th>\n",
       "      <td>1.008</td>\n",
       "      <td>7.20</td>\n",
       "      <td>321</td>\n",
       "      <td>14.9</td>\n",
       "      <td>101</td>\n",
       "      <td>2.36</td>\n",
       "      <td>0</td>\n",
       "    </tr>\n",
       "    <tr>\n",
       "      <th>3</th>\n",
       "      <td>1.011</td>\n",
       "      <td>5.51</td>\n",
       "      <td>408</td>\n",
       "      <td>12.6</td>\n",
       "      <td>224</td>\n",
       "      <td>2.15</td>\n",
       "      <td>0</td>\n",
       "    </tr>\n",
       "    <tr>\n",
       "      <th>4</th>\n",
       "      <td>1.005</td>\n",
       "      <td>6.52</td>\n",
       "      <td>187</td>\n",
       "      <td>7.5</td>\n",
       "      <td>91</td>\n",
       "      <td>1.16</td>\n",
       "      <td>0</td>\n",
       "    </tr>\n",
       "  </tbody>\n",
       "</table>\n",
       "</div>"
      ],
      "text/plain": [
       "   gravity    ph  osmo  cond  urea  calc  target\n",
       "0    1.021  4.91   725  14.0   443  2.45       0\n",
       "1    1.017  5.74   577  20.0   296  4.49       0\n",
       "2    1.008  7.20   321  14.9   101  2.36       0\n",
       "3    1.011  5.51   408  12.6   224  2.15       0\n",
       "4    1.005  6.52   187   7.5    91  1.16       0"
      ]
     },
     "execution_count": 12,
     "metadata": {},
     "output_type": "execute_result"
    }
   ],
   "source": [
    "add_data.head()"
   ]
  },
  {
   "cell_type": "code",
   "execution_count": 13,
   "id": "48dc9ea9",
   "metadata": {
    "execution": {
     "iopub.execute_input": "2023-05-19T14:26:00.136080Z",
     "iopub.status.busy": "2023-05-19T14:26:00.134692Z",
     "iopub.status.idle": "2023-05-19T14:26:00.143434Z",
     "shell.execute_reply": "2023-05-19T14:26:00.142024Z"
    },
    "papermill": {
     "duration": 0.030432,
     "end_time": "2023-05-19T14:26:00.146271",
     "exception": false,
     "start_time": "2023-05-19T14:26:00.115839",
     "status": "completed"
    },
    "tags": []
   },
   "outputs": [
    {
     "data": {
      "text/plain": [
       "(79, 7)"
      ]
     },
     "execution_count": 13,
     "metadata": {},
     "output_type": "execute_result"
    }
   ],
   "source": [
    "add_data.shape"
   ]
  },
  {
   "cell_type": "code",
   "execution_count": 14,
   "id": "70c2f601",
   "metadata": {
    "execution": {
     "iopub.execute_input": "2023-05-19T14:26:00.183391Z",
     "iopub.status.busy": "2023-05-19T14:26:00.182339Z",
     "iopub.status.idle": "2023-05-19T14:26:00.190486Z",
     "shell.execute_reply": "2023-05-19T14:26:00.189094Z"
    },
    "papermill": {
     "duration": 0.030387,
     "end_time": "2023-05-19T14:26:00.193763",
     "exception": false,
     "start_time": "2023-05-19T14:26:00.163376",
     "status": "completed"
    },
    "tags": []
   },
   "outputs": [],
   "source": [
    "add_train_y = add_data.target\n",
    "add_train_X = add_data.drop([\"target\"],axis = 1)"
   ]
  },
  {
   "cell_type": "code",
   "execution_count": 15,
   "id": "a93dce6e",
   "metadata": {
    "execution": {
     "iopub.execute_input": "2023-05-19T14:26:00.230657Z",
     "iopub.status.busy": "2023-05-19T14:26:00.230247Z",
     "iopub.status.idle": "2023-05-19T14:26:00.237950Z",
     "shell.execute_reply": "2023-05-19T14:26:00.237037Z"
    },
    "papermill": {
     "duration": 0.029294,
     "end_time": "2023-05-19T14:26:00.240509",
     "exception": false,
     "start_time": "2023-05-19T14:26:00.211215",
     "status": "completed"
    },
    "tags": []
   },
   "outputs": [],
   "source": [
    "train_X_new = pd.concat([train_X, add_train_X], axis=0)\n",
    "train_y_new = pd.concat([train_y, add_train_y], axis=0)"
   ]
  },
  {
   "cell_type": "code",
   "execution_count": 16,
   "id": "ae881c58",
   "metadata": {
    "execution": {
     "iopub.execute_input": "2023-05-19T14:26:00.277555Z",
     "iopub.status.busy": "2023-05-19T14:26:00.277105Z",
     "iopub.status.idle": "2023-05-19T14:26:00.284753Z",
     "shell.execute_reply": "2023-05-19T14:26:00.283583Z"
    },
    "papermill": {
     "duration": 0.029652,
     "end_time": "2023-05-19T14:26:00.287490",
     "exception": false,
     "start_time": "2023-05-19T14:26:00.257838",
     "status": "completed"
    },
    "tags": []
   },
   "outputs": [
    {
     "data": {
      "text/plain": [
       "(389,)"
      ]
     },
     "execution_count": 16,
     "metadata": {},
     "output_type": "execute_result"
    }
   ],
   "source": [
    "train_y_new.shape"
   ]
  },
  {
   "cell_type": "code",
   "execution_count": 17,
   "id": "28963b13",
   "metadata": {
    "execution": {
     "iopub.execute_input": "2023-05-19T14:26:00.324929Z",
     "iopub.status.busy": "2023-05-19T14:26:00.324491Z",
     "iopub.status.idle": "2023-05-19T14:26:00.342503Z",
     "shell.execute_reply": "2023-05-19T14:26:00.341082Z"
    },
    "papermill": {
     "duration": 0.039818,
     "end_time": "2023-05-19T14:26:00.345151",
     "exception": false,
     "start_time": "2023-05-19T14:26:00.305333",
     "status": "completed"
    },
    "tags": []
   },
   "outputs": [
    {
     "name": "stdout",
     "output_type": "stream",
     "text": [
      "0.7177210506844247\n"
     ]
    }
   ],
   "source": [
    "exp_model_1 = DecisionTreeClassifier(max_depth = 5,random_state=42)\n",
    "exp_model_1.fit(train_X_new,train_y_new)\n",
    "val_probs_1_new = exp_model_1.predict_proba(val_X)\n",
    "val_probs_1_new = val_probs_1_new[:,1]\n",
    "val_preds_1_new = exp_model_1.predict(val_X)\n",
    "\n",
    "auc_score_1_new = roc_auc_score(val_y, val_probs_1_new)\n",
    "print(auc_score_1_new)"
   ]
  },
  {
   "cell_type": "code",
   "execution_count": 18,
   "id": "1b3e8db4",
   "metadata": {
    "execution": {
     "iopub.execute_input": "2023-05-19T14:26:00.382944Z",
     "iopub.status.busy": "2023-05-19T14:26:00.382463Z",
     "iopub.status.idle": "2023-05-19T14:26:00.659846Z",
     "shell.execute_reply": "2023-05-19T14:26:00.658311Z"
    },
    "papermill": {
     "duration": 0.299894,
     "end_time": "2023-05-19T14:26:00.662856",
     "exception": false,
     "start_time": "2023-05-19T14:26:00.362962",
     "status": "completed"
    },
    "tags": []
   },
   "outputs": [
    {
     "name": "stdout",
     "output_type": "stream",
     "text": [
      "0.8048464668886424\n"
     ]
    }
   ],
   "source": [
    "exp_model_2 = RandomForestClassifier(random_state=42)\n",
    "exp_model_2.fit(train_X_new, train_y_new)\n",
    "val_probs_2_new = exp_model_2.predict_proba(val_X)\n",
    "val_probs_2_new = val_probs_2_new[:,1]\n",
    "val_preds_2_new = exp_model_2.predict(val_X)\n",
    "\n",
    "auc_score_2_new = roc_auc_score(val_y, val_probs_2_new)\n",
    "print(auc_score_2_new)"
   ]
  },
  {
   "cell_type": "code",
   "execution_count": 19,
   "id": "29d86935",
   "metadata": {
    "execution": {
     "iopub.execute_input": "2023-05-19T14:26:00.701155Z",
     "iopub.status.busy": "2023-05-19T14:26:00.700718Z",
     "iopub.status.idle": "2023-05-19T14:26:00.903189Z",
     "shell.execute_reply": "2023-05-19T14:26:00.902102Z"
    },
    "papermill": {
     "duration": 0.225548,
     "end_time": "2023-05-19T14:26:00.906364",
     "exception": false,
     "start_time": "2023-05-19T14:26:00.680816",
     "status": "completed"
    },
    "tags": []
   },
   "outputs": [
    {
     "name": "stdout",
     "output_type": "stream",
     "text": [
      "0.7852386237513873\n"
     ]
    },
    {
     "name": "stderr",
     "output_type": "stream",
     "text": [
      "/opt/conda/lib/python3.7/site-packages/xgboost/sklearn.py:797: UserWarning: `early_stopping_rounds` in `fit` method is deprecated for better compatibility with scikit-learn, use `early_stopping_rounds` in constructor or`set_params` instead.\n",
      "  UserWarning,\n"
     ]
    }
   ],
   "source": [
    "exp_model_3 = XGBClassifier(n_estimators = 500, learning_rate = 0.05,random_state=42)\n",
    "exp_model_3.fit(train_X_new, train_y_new, early_stopping_rounds=5, eval_set=[(val_X, val_y)],verbose=False)\n",
    "val_probs_3_new = exp_model_3.predict_proba(val_X)\n",
    "val_probs_3_new = val_probs_3_new[:,1]\n",
    "val_preds_3_new = exp_model_3.predict(val_X)\n",
    "\n",
    "auc_score_3_new = roc_auc_score(val_y, val_probs_3_new)\n",
    "print(auc_score_3_new)"
   ]
  },
  {
   "cell_type": "markdown",
   "id": "7ac0efb1",
   "metadata": {
    "papermill": {
     "duration": 0.017109,
     "end_time": "2023-05-19T14:26:00.942167",
     "exception": false,
     "start_time": "2023-05-19T14:26:00.925058",
     "status": "completed"
    },
    "tags": []
   },
   "source": [
    "**We see that adding new training data improves the performance of all the three models, thus we will train our subsequent models using this dataset.**"
   ]
  },
  {
   "cell_type": "code",
   "execution_count": null,
   "id": "67c287ae",
   "metadata": {
    "papermill": {
     "duration": 0.017034,
     "end_time": "2023-05-19T14:26:00.976581",
     "exception": false,
     "start_time": "2023-05-19T14:26:00.959547",
     "status": "completed"
    },
    "tags": []
   },
   "outputs": [],
   "source": []
  },
  {
   "cell_type": "markdown",
   "id": "e0b95819",
   "metadata": {
    "papermill": {
     "duration": 0.017554,
     "end_time": "2023-05-19T14:26:01.011449",
     "exception": false,
     "start_time": "2023-05-19T14:26:00.993895",
     "status": "completed"
    },
    "tags": []
   },
   "source": [
    "## Hyper Parameter Tuning"
   ]
  },
  {
   "cell_type": "markdown",
   "id": "8aaf9498",
   "metadata": {
    "papermill": {
     "duration": 0.017649,
     "end_time": "2023-05-19T14:26:01.046488",
     "exception": false,
     "start_time": "2023-05-19T14:26:01.028839",
     "status": "completed"
    },
    "tags": []
   },
   "source": [
    "Now,considering the three models auc_score, RandomForestClassifier has the best performance for the both the old and updated dataset, hence fine tuning the hyper parameters of the **RandomForestClassifier** and fitting it on the entire training data set."
   ]
  },
  {
   "cell_type": "code",
   "execution_count": 20,
   "id": "a282bd94",
   "metadata": {
    "execution": {
     "iopub.execute_input": "2023-05-19T14:26:01.083443Z",
     "iopub.status.busy": "2023-05-19T14:26:01.082606Z",
     "iopub.status.idle": "2023-05-19T14:26:01.091488Z",
     "shell.execute_reply": "2023-05-19T14:26:01.089820Z"
    },
    "papermill": {
     "duration": 0.030282,
     "end_time": "2023-05-19T14:26:01.094145",
     "exception": false,
     "start_time": "2023-05-19T14:26:01.063863",
     "status": "completed"
    },
    "tags": []
   },
   "outputs": [
    {
     "name": "stdout",
     "output_type": "stream",
     "text": [
      "Parameters currently in use: /n\n",
      "{'bootstrap': True,\n",
      " 'ccp_alpha': 0.0,\n",
      " 'class_weight': None,\n",
      " 'criterion': 'gini',\n",
      " 'max_depth': None,\n",
      " 'max_features': 'auto',\n",
      " 'max_leaf_nodes': None,\n",
      " 'max_samples': None,\n",
      " 'min_impurity_decrease': 0.0,\n",
      " 'min_samples_leaf': 1,\n",
      " 'min_samples_split': 2,\n",
      " 'min_weight_fraction_leaf': 0.0,\n",
      " 'n_estimators': 100,\n",
      " 'n_jobs': None,\n",
      " 'oob_score': False,\n",
      " 'random_state': None,\n",
      " 'verbose': 0,\n",
      " 'warm_start': False}\n"
     ]
    }
   ],
   "source": [
    "from pprint import pprint\n",
    "\n",
    "my_model = RandomForestClassifier()\n",
    "\n",
    "print(\"Parameters currently in use: /n\")\n",
    "pprint(my_model.get_params())"
   ]
  },
  {
   "cell_type": "code",
   "execution_count": 21,
   "id": "4c4daf97",
   "metadata": {
    "execution": {
     "iopub.execute_input": "2023-05-19T14:26:01.131299Z",
     "iopub.status.busy": "2023-05-19T14:26:01.130880Z",
     "iopub.status.idle": "2023-05-19T14:26:01.140974Z",
     "shell.execute_reply": "2023-05-19T14:26:01.139693Z"
    },
    "papermill": {
     "duration": 0.03195,
     "end_time": "2023-05-19T14:26:01.143681",
     "exception": false,
     "start_time": "2023-05-19T14:26:01.111731",
     "status": "completed"
    },
    "tags": []
   },
   "outputs": [],
   "source": [
    "from sklearn.model_selection import RandomizedSearchCV\n",
    "\n",
    "# Number of trees in the Random Forest\n",
    "n_estimators = [int(x) for x in np.linspace(start=200,stop=2000,num=10)]\n",
    "\n",
    "# Number of features to consider at every split\n",
    "max_features = [\"auto\",\"sqrt\"]\n",
    "\n",
    "# Maximum number of levels in the tree\n",
    "max_depth = [int(x) for x in np.linspace(start=10,stop=110,num=11)]\n",
    "max_depth.append(None)\n",
    "\n",
    "# Minimum number of samples required to split a node\n",
    "min_samples_split = [2,5,10]\n",
    "\n",
    "# Minimum number of samples required at each leaf node\n",
    "min_samples_leaf = [1,2,4]\n",
    "\n",
    "# Method of selecting samples for training each tree\n",
    "bootstrap = [\"True\", \"False\"]\n",
    "\n",
    "# Creating Random Grid\n",
    "random_grid = {\"n_estimators\": n_estimators,\n",
    "              \"max_features\": max_features,\n",
    "              \"max_depth\": max_depth,\n",
    "              \"min_samples_split\": min_samples_split,\n",
    "              \"min_samples_leaf\": min_samples_leaf,\n",
    "              \"bootstrap\": bootstrap}"
   ]
  },
  {
   "cell_type": "code",
   "execution_count": 22,
   "id": "d7e96e88",
   "metadata": {
    "execution": {
     "iopub.execute_input": "2023-05-19T14:26:01.180746Z",
     "iopub.status.busy": "2023-05-19T14:26:01.180346Z",
     "iopub.status.idle": "2023-05-19T14:30:33.935763Z",
     "shell.execute_reply": "2023-05-19T14:30:33.934253Z"
    },
    "papermill": {
     "duration": 272.79416,
     "end_time": "2023-05-19T14:30:33.955557",
     "exception": false,
     "start_time": "2023-05-19T14:26:01.161397",
     "status": "completed"
    },
    "tags": []
   },
   "outputs": [
    {
     "data": {
      "text/plain": [
       "RandomizedSearchCV(cv=3, estimator=RandomForestClassifier(), n_iter=100,\n",
       "                   n_jobs=-1,\n",
       "                   param_distributions={'bootstrap': ['True', 'False'],\n",
       "                                        'max_depth': [10, 20, 30, 40, 50, 60,\n",
       "                                                      70, 80, 90, 100, 110,\n",
       "                                                      None],\n",
       "                                        'max_features': ['auto', 'sqrt'],\n",
       "                                        'min_samples_leaf': [1, 2, 4],\n",
       "                                        'min_samples_split': [2, 5, 10],\n",
       "                                        'n_estimators': [200, 400, 600, 800,\n",
       "                                                         1000, 1200, 1400, 1600,\n",
       "                                                         1800, 2000]},\n",
       "                   random_state=42)"
      ]
     },
     "execution_count": 22,
     "metadata": {},
     "output_type": "execute_result"
    }
   ],
   "source": [
    "from sklearn.model_selection import RandomizedSearchCV\n",
    "\n",
    "#Randomly searching for parameters, using 3 fold cross validation, searching across 100 different \n",
    "#combinations\n",
    "\n",
    "my_model_random = RandomizedSearchCV(estimator=my_model, param_distributions= random_grid, n_iter=100, cv=3,n_jobs = -1,random_state=42)\n",
    "my_model_random.fit(train_X_new, train_y_new)"
   ]
  },
  {
   "cell_type": "code",
   "execution_count": 23,
   "id": "41dab6d1",
   "metadata": {
    "execution": {
     "iopub.execute_input": "2023-05-19T14:30:33.994402Z",
     "iopub.status.busy": "2023-05-19T14:30:33.993388Z",
     "iopub.status.idle": "2023-05-19T14:30:34.002560Z",
     "shell.execute_reply": "2023-05-19T14:30:34.001291Z"
    },
    "papermill": {
     "duration": 0.032372,
     "end_time": "2023-05-19T14:30:34.005492",
     "exception": false,
     "start_time": "2023-05-19T14:30:33.973120",
     "status": "completed"
    },
    "tags": []
   },
   "outputs": [
    {
     "data": {
      "text/plain": [
       "{'n_estimators': 800,\n",
       " 'min_samples_split': 2,\n",
       " 'min_samples_leaf': 4,\n",
       " 'max_features': 'sqrt',\n",
       " 'max_depth': 90,\n",
       " 'bootstrap': 'True'}"
      ]
     },
     "execution_count": 23,
     "metadata": {},
     "output_type": "execute_result"
    }
   ],
   "source": [
    "my_model_random.best_params_"
   ]
  },
  {
   "cell_type": "code",
   "execution_count": 24,
   "id": "9a4b0bb2",
   "metadata": {
    "execution": {
     "iopub.execute_input": "2023-05-19T14:30:34.044512Z",
     "iopub.status.busy": "2023-05-19T14:30:34.043622Z",
     "iopub.status.idle": "2023-05-19T14:30:34.282924Z",
     "shell.execute_reply": "2023-05-19T14:30:34.281480Z"
    },
    "papermill": {
     "duration": 0.262572,
     "end_time": "2023-05-19T14:30:34.285902",
     "exception": false,
     "start_time": "2023-05-19T14:30:34.023330",
     "status": "completed"
    },
    "tags": []
   },
   "outputs": [
    {
     "name": "stdout",
     "output_type": "stream",
     "text": [
      "0.7976322604513504\n"
     ]
    }
   ],
   "source": [
    "val_probs_random = my_model_random.predict_proba(val_X)\n",
    "val_probs_random = val_probs_random[:,1]\n",
    "val_preds_random = my_model_random.predict(val_X)\n",
    "\n",
    "auc_score_random = roc_auc_score(val_y, val_probs_random)\n",
    "print(auc_score_random)"
   ]
  },
  {
   "cell_type": "code",
   "execution_count": 25,
   "id": "a87c2df4",
   "metadata": {
    "execution": {
     "iopub.execute_input": "2023-05-19T14:30:34.325503Z",
     "iopub.status.busy": "2023-05-19T14:30:34.324377Z",
     "iopub.status.idle": "2023-05-19T14:30:34.333068Z",
     "shell.execute_reply": "2023-05-19T14:30:34.332122Z"
    },
    "papermill": {
     "duration": 0.031367,
     "end_time": "2023-05-19T14:30:34.335672",
     "exception": false,
     "start_time": "2023-05-19T14:30:34.304305",
     "status": "completed"
    },
    "tags": []
   },
   "outputs": [],
   "source": [
    "from sklearn.model_selection import GridSearchCV\n",
    "\n",
    "# Creating a parameter grid based on the results of the Random Grid Search\n",
    "\n",
    "param_grid = {\n",
    "    \"n_estimators\" : [100,400,1000,2000],\n",
    "    \"max_depth\" : [20,80,100],\n",
    "    \"max_features\" : [2,3,\"sqrt\"],\n",
    "    \"min_samples_split\" : [2,8],\n",
    "    \"min_samples_leaf\" : [1,3],\n",
    "    \"bootstrap\" : [\"False\",\"True\"]\n",
    "}\n",
    "\n",
    "# Creating a model\n",
    "new_model = RandomForestClassifier()\n",
    "\n",
    "# Instantiating the Grid Search Model\n",
    "new_model_grid = GridSearchCV(estimator = new_model, param_grid = param_grid, cv=3,n_jobs=-1)"
   ]
  },
  {
   "cell_type": "code",
   "execution_count": 26,
   "id": "3a78ee65",
   "metadata": {
    "execution": {
     "iopub.execute_input": "2023-05-19T14:30:34.375296Z",
     "iopub.status.busy": "2023-05-19T14:30:34.374063Z",
     "iopub.status.idle": "2023-05-19T14:40:41.721059Z",
     "shell.execute_reply": "2023-05-19T14:40:41.719547Z"
    },
    "papermill": {
     "duration": 607.388116,
     "end_time": "2023-05-19T14:40:41.742259",
     "exception": false,
     "start_time": "2023-05-19T14:30:34.354143",
     "status": "completed"
    },
    "tags": []
   },
   "outputs": [
    {
     "data": {
      "text/plain": [
       "{'bootstrap': 'True',\n",
       " 'max_depth': 80,\n",
       " 'max_features': 'sqrt',\n",
       " 'min_samples_leaf': 3,\n",
       " 'min_samples_split': 8,\n",
       " 'n_estimators': 100}"
      ]
     },
     "execution_count": 26,
     "metadata": {},
     "output_type": "execute_result"
    }
   ],
   "source": [
    "new_model_grid.fit(train_X_new,train_y_new)\n",
    "\n",
    "new_model_grid.best_params_"
   ]
  },
  {
   "cell_type": "code",
   "execution_count": 27,
   "id": "afd9ae0e",
   "metadata": {
    "execution": {
     "iopub.execute_input": "2023-05-19T14:40:41.780832Z",
     "iopub.status.busy": "2023-05-19T14:40:41.780402Z",
     "iopub.status.idle": "2023-05-19T14:40:41.828877Z",
     "shell.execute_reply": "2023-05-19T14:40:41.827497Z"
    },
    "papermill": {
     "duration": 0.071404,
     "end_time": "2023-05-19T14:40:41.831696",
     "exception": false,
     "start_time": "2023-05-19T14:40:41.760292",
     "status": "completed"
    },
    "tags": []
   },
   "outputs": [
    {
     "name": "stdout",
     "output_type": "stream",
     "text": [
      "0.8035516093229744\n"
     ]
    }
   ],
   "source": [
    "val_probs_grid = new_model_grid.predict_proba(val_X)\n",
    "val_probs_grid = val_probs_grid[:,1]\n",
    "val_preds_grid = new_model_grid.predict(val_X)\n",
    "\n",
    "auc_score_grid = roc_auc_score(val_y, val_probs_grid)\n",
    "print(auc_score_grid)"
   ]
  },
  {
   "cell_type": "code",
   "execution_count": 28,
   "id": "73b2a12f",
   "metadata": {
    "execution": {
     "iopub.execute_input": "2023-05-19T14:40:41.870625Z",
     "iopub.status.busy": "2023-05-19T14:40:41.869815Z",
     "iopub.status.idle": "2023-05-19T14:40:41.878198Z",
     "shell.execute_reply": "2023-05-19T14:40:41.876772Z"
    },
    "papermill": {
     "duration": 0.031655,
     "end_time": "2023-05-19T14:40:41.881593",
     "exception": false,
     "start_time": "2023-05-19T14:40:41.849938",
     "status": "completed"
    },
    "tags": []
   },
   "outputs": [],
   "source": [
    "# Creating a new parameter grid based on the first GridSearch results\n",
    "\n",
    "param_grid = {\n",
    "    \"n_estimators\" : [100,150,450,1200],\n",
    "    \"max_features\" : [\"sqrt\"],\n",
    "    \"max_depth\" : [20,70,80,90],\n",
    "    \"min_samples_split\" : [2,7],\n",
    "    \"min_samples_leaf\" : [1,2],\n",
    "    \"bootstrap\" : [\"True\",\"False\"]\n",
    "}\n",
    "\n",
    "model = RandomForestClassifier()\n",
    "\n",
    "model_grid_2 = GridSearchCV(estimator = model,param_grid = param_grid, cv = 3, n_jobs = -1)"
   ]
  },
  {
   "cell_type": "code",
   "execution_count": 29,
   "id": "7aa5d376",
   "metadata": {
    "execution": {
     "iopub.execute_input": "2023-05-19T14:40:41.920141Z",
     "iopub.status.busy": "2023-05-19T14:40:41.919751Z",
     "iopub.status.idle": "2023-05-19T14:43:10.620009Z",
     "shell.execute_reply": "2023-05-19T14:43:10.618220Z"
    },
    "papermill": {
     "duration": 148.742317,
     "end_time": "2023-05-19T14:43:10.642320",
     "exception": false,
     "start_time": "2023-05-19T14:40:41.900003",
     "status": "completed"
    },
    "tags": []
   },
   "outputs": [
    {
     "data": {
      "text/plain": [
       "{'bootstrap': 'True',\n",
       " 'max_depth': 80,\n",
       " 'max_features': 'sqrt',\n",
       " 'min_samples_leaf': 1,\n",
       " 'min_samples_split': 2,\n",
       " 'n_estimators': 150}"
      ]
     },
     "execution_count": 29,
     "metadata": {},
     "output_type": "execute_result"
    }
   ],
   "source": [
    "model_grid_2.fit(train_X_new, train_y_new)\n",
    "\n",
    "model_grid_2.best_params_"
   ]
  },
  {
   "cell_type": "code",
   "execution_count": 30,
   "id": "38b089a0",
   "metadata": {
    "execution": {
     "iopub.execute_input": "2023-05-19T14:43:10.682900Z",
     "iopub.status.busy": "2023-05-19T14:43:10.682473Z",
     "iopub.status.idle": "2023-05-19T14:43:10.743754Z",
     "shell.execute_reply": "2023-05-19T14:43:10.742321Z"
    },
    "papermill": {
     "duration": 0.085958,
     "end_time": "2023-05-19T14:43:10.747367",
     "exception": false,
     "start_time": "2023-05-19T14:43:10.661409",
     "status": "completed"
    },
    "tags": []
   },
   "outputs": [
    {
     "name": "stdout",
     "output_type": "stream",
     "text": [
      "0.8057713651498334\n"
     ]
    }
   ],
   "source": [
    "val_probs_grid_2 = model_grid_2.predict_proba(val_X)\n",
    "val_probs_grid_2 = val_probs_grid_2[:,1]\n",
    "val_preds_grid_2 = model_grid_2.predict(val_X)\n",
    "\n",
    "auc_score_grid_2 = roc_auc_score(val_y, val_probs_grid_2)\n",
    "print(auc_score_grid_2)"
   ]
  },
  {
   "cell_type": "code",
   "execution_count": 31,
   "id": "c6928f1a",
   "metadata": {
    "execution": {
     "iopub.execute_input": "2023-05-19T14:43:10.788919Z",
     "iopub.status.busy": "2023-05-19T14:43:10.787882Z",
     "iopub.status.idle": "2023-05-19T14:43:10.796219Z",
     "shell.execute_reply": "2023-05-19T14:43:10.794637Z"
    },
    "papermill": {
     "duration": 0.033307,
     "end_time": "2023-05-19T14:43:10.799520",
     "exception": false,
     "start_time": "2023-05-19T14:43:10.766213",
     "status": "completed"
    },
    "tags": []
   },
   "outputs": [],
   "source": [
    "# Creating the final param_grid for Grid Search based on the previous results\n",
    "\n",
    "param_grid = {\n",
    "    \"n_estimators\" : [100,150,200],\n",
    "    \"max_features\" : [\"sqrt\"],\n",
    "    \"max_depth\" : [70],\n",
    "    \"min_samples_split\" : [2,5,8],\n",
    "    \"min_samples_leaf\" : [2,3],\n",
    "    \"bootstrap\" : [\"False\",\"True\"]\n",
    "}\n",
    "\n",
    "model_grid = RandomForestClassifier()\n",
    "\n",
    "model_grid_3 = GridSearchCV(estimator = model_grid, param_grid = param_grid, cv = 3, n_jobs = -1)"
   ]
  },
  {
   "cell_type": "code",
   "execution_count": 32,
   "id": "9c4ffa59",
   "metadata": {
    "execution": {
     "iopub.execute_input": "2023-05-19T14:43:10.839415Z",
     "iopub.status.busy": "2023-05-19T14:43:10.838863Z",
     "iopub.status.idle": "2023-05-19T14:43:24.359026Z",
     "shell.execute_reply": "2023-05-19T14:43:24.357731Z"
    },
    "papermill": {
     "duration": 13.544258,
     "end_time": "2023-05-19T14:43:24.362444",
     "exception": false,
     "start_time": "2023-05-19T14:43:10.818186",
     "status": "completed"
    },
    "tags": []
   },
   "outputs": [
    {
     "data": {
      "text/plain": [
       "{'bootstrap': 'True',\n",
       " 'max_depth': 70,\n",
       " 'max_features': 'sqrt',\n",
       " 'min_samples_leaf': 3,\n",
       " 'min_samples_split': 8,\n",
       " 'n_estimators': 100}"
      ]
     },
     "execution_count": 32,
     "metadata": {},
     "output_type": "execute_result"
    }
   ],
   "source": [
    "model_grid_3.fit(train_X_new, train_y_new)\n",
    "model_grid_3.best_params_"
   ]
  },
  {
   "cell_type": "code",
   "execution_count": 33,
   "id": "3cbe286a",
   "metadata": {
    "execution": {
     "iopub.execute_input": "2023-05-19T14:43:24.404017Z",
     "iopub.status.busy": "2023-05-19T14:43:24.403529Z",
     "iopub.status.idle": "2023-05-19T14:43:24.449698Z",
     "shell.execute_reply": "2023-05-19T14:43:24.448162Z"
    },
    "papermill": {
     "duration": 0.070517,
     "end_time": "2023-05-19T14:43:24.453014",
     "exception": false,
     "start_time": "2023-05-19T14:43:24.382497",
     "status": "completed"
    },
    "tags": []
   },
   "outputs": [
    {
     "name": "stdout",
     "output_type": "stream",
     "text": [
      "0.802441731409545\n"
     ]
    }
   ],
   "source": [
    "val_probs_grid_3 = model_grid_3.predict_proba(val_X)\n",
    "val_probs_grid_3 = val_probs_grid_3[:,1]\n",
    "val_preds_grid_3 = model_grid_3.predict(val_X)\n",
    "\n",
    "auc_score_grid_3 = roc_auc_score(val_y, val_probs_grid_3)\n",
    "print(auc_score_grid_3)"
   ]
  },
  {
   "cell_type": "code",
   "execution_count": null,
   "id": "5a9d579c",
   "metadata": {
    "papermill": {
     "duration": 0.01882,
     "end_time": "2023-05-19T14:43:24.491460",
     "exception": false,
     "start_time": "2023-05-19T14:43:24.472640",
     "status": "completed"
    },
    "tags": []
   },
   "outputs": [],
   "source": []
  },
  {
   "cell_type": "markdown",
   "id": "290946b1",
   "metadata": {
    "papermill": {
     "duration": 0.018644,
     "end_time": "2023-05-19T14:43:24.529259",
     "exception": false,
     "start_time": "2023-05-19T14:43:24.510615",
     "status": "completed"
    },
    "tags": []
   },
   "source": [
    "## Fitted Hyperparameters \n",
    "\n",
    "Taking the final grid search, the hyper parameters fine-tuned for this model are: \n",
    "* n_estimators = 100\n",
    "* max_depth = 70\n",
    "* max_features = \"sqrt\"\n",
    "* min_samples_split = 2\n",
    "* min_samples_leaf = 2\n",
    "* bootstrap = False"
   ]
  },
  {
   "cell_type": "markdown",
   "id": "9ff14325",
   "metadata": {
    "papermill": {
     "duration": 0.018848,
     "end_time": "2023-05-19T14:43:24.567768",
     "exception": false,
     "start_time": "2023-05-19T14:43:24.548920",
     "status": "completed"
    },
    "tags": []
   },
   "source": [
    "Now, training a model with these hyperparameters on the entire training data adding the external data source"
   ]
  },
  {
   "cell_type": "code",
   "execution_count": 34,
   "id": "98dd91c8",
   "metadata": {
    "execution": {
     "iopub.execute_input": "2023-05-19T14:43:24.609942Z",
     "iopub.status.busy": "2023-05-19T14:43:24.609444Z",
     "iopub.status.idle": "2023-05-19T14:43:24.621064Z",
     "shell.execute_reply": "2023-05-19T14:43:24.619926Z"
    },
    "papermill": {
     "duration": 0.035465,
     "end_time": "2023-05-19T14:43:24.623612",
     "exception": false,
     "start_time": "2023-05-19T14:43:24.588147",
     "status": "completed"
    },
    "tags": []
   },
   "outputs": [],
   "source": [
    "# Creating the final training dataset\n",
    "\n",
    "final_train_X = pd.concat([train_full,add_train_X],axis = 0)\n",
    "final_train_y = pd.concat([y_train,add_train_y],axis = 0)"
   ]
  },
  {
   "cell_type": "code",
   "execution_count": 35,
   "id": "4b204e48",
   "metadata": {
    "execution": {
     "iopub.execute_input": "2023-05-19T14:43:24.664119Z",
     "iopub.status.busy": "2023-05-19T14:43:24.663671Z",
     "iopub.status.idle": "2023-05-19T14:43:24.878157Z",
     "shell.execute_reply": "2023-05-19T14:43:24.877177Z"
    },
    "papermill": {
     "duration": 0.237996,
     "end_time": "2023-05-19T14:43:24.880790",
     "exception": false,
     "start_time": "2023-05-19T14:43:24.642794",
     "status": "completed"
    },
    "tags": []
   },
   "outputs": [
    {
     "data": {
      "text/plain": [
       "RandomForestClassifier(bootstrap=False, max_depth=70, max_features='sqrt',\n",
       "                       min_samples_leaf=2, min_samples_split=3)"
      ]
     },
     "execution_count": 35,
     "metadata": {},
     "output_type": "execute_result"
    }
   ],
   "source": [
    "final_model = RandomForestClassifier(n_estimators=100, max_depth=70, max_features=\"sqrt\",min_samples_split=3, min_samples_leaf=2, bootstrap=False)\n",
    "\n",
    "final_model.fit(final_train_X, final_train_y)"
   ]
  },
  {
   "cell_type": "code",
   "execution_count": 36,
   "id": "42bbc361",
   "metadata": {
    "execution": {
     "iopub.execute_input": "2023-05-19T14:43:24.922192Z",
     "iopub.status.busy": "2023-05-19T14:43:24.921746Z",
     "iopub.status.idle": "2023-05-19T14:43:24.951155Z",
     "shell.execute_reply": "2023-05-19T14:43:24.949750Z"
    },
    "papermill": {
     "duration": 0.054253,
     "end_time": "2023-05-19T14:43:24.954915",
     "exception": false,
     "start_time": "2023-05-19T14:43:24.900662",
     "status": "completed"
    },
    "tags": []
   },
   "outputs": [],
   "source": [
    "final_proba = final_model.predict_proba(test_X)"
   ]
  },
  {
   "cell_type": "code",
   "execution_count": 37,
   "id": "93ee0021",
   "metadata": {
    "execution": {
     "iopub.execute_input": "2023-05-19T14:43:24.996439Z",
     "iopub.status.busy": "2023-05-19T14:43:24.995948Z",
     "iopub.status.idle": "2023-05-19T14:43:25.004946Z",
     "shell.execute_reply": "2023-05-19T14:43:25.003283Z"
    },
    "papermill": {
     "duration": 0.033588,
     "end_time": "2023-05-19T14:43:25.008128",
     "exception": false,
     "start_time": "2023-05-19T14:43:24.974540",
     "status": "completed"
    },
    "tags": []
   },
   "outputs": [
    {
     "data": {
      "text/plain": [
       "(276, 2)"
      ]
     },
     "execution_count": 37,
     "metadata": {},
     "output_type": "execute_result"
    }
   ],
   "source": [
    "final_proba.shape"
   ]
  },
  {
   "cell_type": "code",
   "execution_count": 38,
   "id": "35873c52",
   "metadata": {
    "execution": {
     "iopub.execute_input": "2023-05-19T14:43:25.051207Z",
     "iopub.status.busy": "2023-05-19T14:43:25.050725Z",
     "iopub.status.idle": "2023-05-19T14:43:25.059831Z",
     "shell.execute_reply": "2023-05-19T14:43:25.058841Z"
    },
    "papermill": {
     "duration": 0.033018,
     "end_time": "2023-05-19T14:43:25.062447",
     "exception": false,
     "start_time": "2023-05-19T14:43:25.029429",
     "status": "completed"
    },
    "tags": []
   },
   "outputs": [],
   "source": [
    "output = pd.DataFrame()\n",
    "output[\"id\"] = range(414,690)\n",
    "output[\"prob\"] = final_proba[:,1]"
   ]
  },
  {
   "cell_type": "code",
   "execution_count": 39,
   "id": "4c32bd3a",
   "metadata": {
    "execution": {
     "iopub.execute_input": "2023-05-19T14:43:25.105495Z",
     "iopub.status.busy": "2023-05-19T14:43:25.104989Z",
     "iopub.status.idle": "2023-05-19T14:43:25.122121Z",
     "shell.execute_reply": "2023-05-19T14:43:25.121093Z"
    },
    "papermill": {
     "duration": 0.042889,
     "end_time": "2023-05-19T14:43:25.125158",
     "exception": false,
     "start_time": "2023-05-19T14:43:25.082269",
     "status": "completed"
    },
    "tags": []
   },
   "outputs": [
    {
     "data": {
      "text/html": [
       "<div>\n",
       "<style scoped>\n",
       "    .dataframe tbody tr th:only-of-type {\n",
       "        vertical-align: middle;\n",
       "    }\n",
       "\n",
       "    .dataframe tbody tr th {\n",
       "        vertical-align: top;\n",
       "    }\n",
       "\n",
       "    .dataframe thead th {\n",
       "        text-align: right;\n",
       "    }\n",
       "</style>\n",
       "<table border=\"1\" class=\"dataframe\">\n",
       "  <thead>\n",
       "    <tr style=\"text-align: right;\">\n",
       "      <th></th>\n",
       "      <th>id</th>\n",
       "      <th>prob</th>\n",
       "    </tr>\n",
       "  </thead>\n",
       "  <tbody>\n",
       "    <tr>\n",
       "      <th>0</th>\n",
       "      <td>414</td>\n",
       "      <td>0.311667</td>\n",
       "    </tr>\n",
       "    <tr>\n",
       "      <th>1</th>\n",
       "      <td>415</td>\n",
       "      <td>0.641667</td>\n",
       "    </tr>\n",
       "    <tr>\n",
       "      <th>2</th>\n",
       "      <td>416</td>\n",
       "      <td>0.958333</td>\n",
       "    </tr>\n",
       "    <tr>\n",
       "      <th>3</th>\n",
       "      <td>417</td>\n",
       "      <td>0.400833</td>\n",
       "    </tr>\n",
       "    <tr>\n",
       "      <th>4</th>\n",
       "      <td>418</td>\n",
       "      <td>0.392500</td>\n",
       "    </tr>\n",
       "    <tr>\n",
       "      <th>...</th>\n",
       "      <td>...</td>\n",
       "      <td>...</td>\n",
       "    </tr>\n",
       "    <tr>\n",
       "      <th>271</th>\n",
       "      <td>685</td>\n",
       "      <td>0.805000</td>\n",
       "    </tr>\n",
       "    <tr>\n",
       "      <th>272</th>\n",
       "      <td>686</td>\n",
       "      <td>0.025000</td>\n",
       "    </tr>\n",
       "    <tr>\n",
       "      <th>273</th>\n",
       "      <td>687</td>\n",
       "      <td>0.713000</td>\n",
       "    </tr>\n",
       "    <tr>\n",
       "      <th>274</th>\n",
       "      <td>688</td>\n",
       "      <td>0.006667</td>\n",
       "    </tr>\n",
       "    <tr>\n",
       "      <th>275</th>\n",
       "      <td>689</td>\n",
       "      <td>0.453500</td>\n",
       "    </tr>\n",
       "  </tbody>\n",
       "</table>\n",
       "<p>276 rows × 2 columns</p>\n",
       "</div>"
      ],
      "text/plain": [
       "      id      prob\n",
       "0    414  0.311667\n",
       "1    415  0.641667\n",
       "2    416  0.958333\n",
       "3    417  0.400833\n",
       "4    418  0.392500\n",
       "..   ...       ...\n",
       "271  685  0.805000\n",
       "272  686  0.025000\n",
       "273  687  0.713000\n",
       "274  688  0.006667\n",
       "275  689  0.453500\n",
       "\n",
       "[276 rows x 2 columns]"
      ]
     },
     "execution_count": 39,
     "metadata": {},
     "output_type": "execute_result"
    }
   ],
   "source": [
    "output"
   ]
  },
  {
   "cell_type": "code",
   "execution_count": 40,
   "id": "b2446f04",
   "metadata": {
    "execution": {
     "iopub.execute_input": "2023-05-19T14:43:25.169535Z",
     "iopub.status.busy": "2023-05-19T14:43:25.169061Z",
     "iopub.status.idle": "2023-05-19T14:43:25.185872Z",
     "shell.execute_reply": "2023-05-19T14:43:25.184412Z"
    },
    "papermill": {
     "duration": 0.043772,
     "end_time": "2023-05-19T14:43:25.189515",
     "exception": false,
     "start_time": "2023-05-19T14:43:25.145743",
     "status": "completed"
    },
    "tags": []
   },
   "outputs": [],
   "source": [
    "output.to_csv(\"final-submission.csv\", index=False)"
   ]
  },
  {
   "cell_type": "code",
   "execution_count": null,
   "id": "d60a76ac",
   "metadata": {
    "papermill": {
     "duration": 0.019558,
     "end_time": "2023-05-19T14:43:25.229964",
     "exception": false,
     "start_time": "2023-05-19T14:43:25.210406",
     "status": "completed"
    },
    "tags": []
   },
   "outputs": [],
   "source": []
  }
 ],
 "metadata": {
  "kernelspec": {
   "display_name": "Python 3",
   "language": "python",
   "name": "python3"
  },
  "language_info": {
   "codemirror_mode": {
    "name": "ipython",
    "version": 3
   },
   "file_extension": ".py",
   "mimetype": "text/x-python",
   "name": "python",
   "nbconvert_exporter": "python",
   "pygments_lexer": "ipython3",
   "version": "3.7.12"
  },
  "papermill": {
   "default_parameters": {},
   "duration": 1063.802215,
   "end_time": "2023-05-19T14:43:27.879537",
   "environment_variables": {},
   "exception": null,
   "input_path": "__notebook__.ipynb",
   "output_path": "__notebook__.ipynb",
   "parameters": {},
   "start_time": "2023-05-19T14:25:44.077322",
   "version": "2.4.0"
  }
 },
 "nbformat": 4,
 "nbformat_minor": 5
}
